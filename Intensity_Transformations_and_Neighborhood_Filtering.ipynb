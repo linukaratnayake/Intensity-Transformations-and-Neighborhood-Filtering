{
  "nbformat": 4,
  "nbformat_minor": 0,
  "metadata": {
    "colab": {
      "provenance": [],
      "authorship_tag": "ABX9TyM2nJyDerhkbTdaoJgwNv8k",
      "include_colab_link": true
    },
    "kernelspec": {
      "name": "python3",
      "display_name": "Python 3"
    },
    "language_info": {
      "name": "python"
    }
  },
  "cells": [
    {
      "cell_type": "markdown",
      "metadata": {
        "id": "view-in-github",
        "colab_type": "text"
      },
      "source": [
        "<a href=\"https://colab.research.google.com/github/linukaratnayake/Intensity-Transformations-and-Neighborhood-Filtering/blob/main/Intensity_Transformations_and_Neighborhood_Filtering.ipynb\" target=\"_parent\"><img src=\"https://colab.research.google.com/assets/colab-badge.svg\" alt=\"Open In Colab\"/></a>"
      ]
    },
    {
      "cell_type": "code",
      "source": [
        "from google.colab import drive\n",
        "drive.mount('/content/drive')"
      ],
      "metadata": {
        "colab": {
          "base_uri": "https://localhost:8080/"
        },
        "id": "JMFvh2S8Gx-j",
        "outputId": "565f136d-0af8-4efb-b653-bc228acff94e"
      },
      "execution_count": 4,
      "outputs": [
        {
          "output_type": "stream",
          "name": "stdout",
          "text": [
            "Mounted at /content/drive\n"
          ]
        }
      ]
    },
    {
      "cell_type": "code",
      "execution_count": 1,
      "metadata": {
        "colab": {
          "base_uri": "https://localhost:8080/",
          "height": 557
        },
        "id": "uztSQuKMylGX",
        "outputId": "6cf9ed90-6b5a-490a-e2ad-2691ae78a711"
      },
      "outputs": [
        {
          "output_type": "stream",
          "name": "stdout",
          "text": [
            "51\n",
            "0\n",
            "100\n",
            "0\n",
            "105\n",
            "256\n"
          ]
        },
        {
          "output_type": "display_data",
          "data": {
            "text/plain": [
              "<Figure size 640x480 with 1 Axes>"
            ],
            "image/png": "[encoded data removed]"
          },
          "metadata": {}
        }
      ],
      "source": [
        "# Intensity Windowing\n",
        "import cv2 as cv\n",
        "import numpy as np\n",
        "import matplotlib.pyplot as plt\n",
        "\n",
        "c = np.array([(50, 50), (50, 100), (150, 255), (150, 150)])\n",
        "\n",
        "t1 = np.linspace(0, c[0,1], c[0,0] + 1 - 0).astype('uint8')\n",
        "print(len(t1))\n",
        "t2 = np.linspace(c[0,1] + 1, c[1,1], c[1,0] - c[0,0]).astype('uint8')\n",
        "print(len(t2))\n",
        "t3 = np.linspace(c[1,1] + 1, c[2,1], c[2,0] - c[1,0]).astype('uint8')\n",
        "print(len(t3))\n",
        "t4 = np.linspace(c[2,1] - 1, c[3,1], c[3,0] - c[2,0]).astype('uint8')\n",
        "print(len(t4))\n",
        "t5 = np.linspace(c[3,1] + 1, 255, 255 - c[3,0]).astype('uint8')\n",
        "print(len(t5))\n",
        "\n",
        "transform = np.concatenate((t1, t2), axis=0).astype('uint8')\n",
        "transform = np.concatenate((transform, t3), axis=0).astype('uint8')\n",
        "transform = np.concatenate((transform, t4), axis=0).astype('uint8')\n",
        "transform = np.concatenate((transform, t5), axis=0).astype('uint8')\n",
        "print(len(transform))\n",
        "\n",
        "fig, ax = plt.subplots()\n",
        "ax.plot(transform)\n",
        "ax.set_xlabel(r'Input, $f(\\mathbf{x})$')\n",
        "ax.set_ylabel('Output, $\\mathrm{T}[f(\\mathbf{x})]$')\n",
        "ax.set_xlim(0,255)\n",
        "ax.set_ylim(0,255)\n",
        "ax.set_aspect('equal')\n",
        "plt.show()"
      ]
    },
    {
      "cell_type": "code",
      "source": [
        "\n",
        "img_orig = cv.imread('/content/drive/My Drive/EN3160/a1images/emma.jpg', cv.IMREAD_GRAYSCALE)\n",
        "cv.namedWindow(\"Image\", cv.WINDOW_AUTOSIZE)\n",
        "cv.imshow(\"Image\", img_orig)\n",
        "cv.waitKey(0)\n",
        "image_transformed = cv.LUT(img_orig, transform)\n",
        "cv.imshow(\"Image\", image_transformed)\n",
        "cv.waitKey(0)\n",
        "cv.destroyAllWindows()"
      ],
      "metadata": {
        "id": "xHqx2xAYGPxq"
      },
      "execution_count": null,
      "outputs": []
    },
    {
      "cell_type": "code",
      "source": [],
      "metadata": {
        "id": "2wxWlzuNIWXZ"
      },
      "execution_count": null,
      "outputs": []
    }
  ]
}